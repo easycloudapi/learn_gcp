{
  "nbformat": 4,
  "nbformat_minor": 0,
  "metadata": {
    "colab": {
      "provenance": [],
      "authorship_tag": "ABX9TyOAxR8f0N7ZuKkObNdShiJx",
      "include_colab_link": true
    },
    "kernelspec": {
      "name": "python3",
      "display_name": "Python 3"
    },
    "language_info": {
      "name": "python"
    }
  },
  "cells": [
    {
      "cell_type": "markdown",
      "metadata": {
        "id": "view-in-github",
        "colab_type": "text"
      },
      "source": [
        "<a href=\"https://colab.research.google.com/github/easycloudapi/learn_gcp/blob/main/learning_resources/07_GCP_Composer_Service.ipynb\" target=\"_parent\"><img src=\"https://colab.research.google.com/assets/colab-badge.svg\" alt=\"Open In Colab\"/></a>"
      ]
    },
    {
      "cell_type": "markdown",
      "source": [
        "# Composer:\n",
        "\n",
        "Its based on apache airflow.\n",
        "\n",
        "Ref:\n",
        "1. Composer Doc: https://cloud.google.com/composer/?hl=en\n",
        "2. Airflow Doc: https://airflow.apache.org/docs/apache-airflow/stable/index.html\n",
        "2. Composer Rest API: https://cloud.google.com/composer/docs/reference/rest/?apix=true\n"
      ],
      "metadata": {
        "id": "DsCiMCjtmVeu"
      }
    },
    {
      "cell_type": "markdown",
      "source": [
        "# Create Composer Environment\n",
        "\n",
        "Ref: https://cloud.google.com/composer/docs/how-to/managing/creating"
      ],
      "metadata": {
        "id": "zQoc6YoJmu7Z"
      }
    },
    {
      "cell_type": "markdown",
      "source": [
        "```shell\n",
        "gcloud config set project test-flask-api-372913\n",
        "\n",
        "gcloud services enable composer.googleapis.com\n",
        "\n",
        "SERVICE_ACCOUNT=296901850615-compute@developer.gserviceaccount.com \\\n",
        "PROJECT_NUMBER=296901850615\n",
        "```"
      ],
      "metadata": {
        "id": "CxgB2WzSrUum"
      }
    },
    {
      "cell_type": "markdown",
      "source": [
        "```shell\n",
        "gcloud composer environments create demo-composer-environment \\\n",
        "    --location us-central1 \\\n",
        "    --image-version composer-2.6.0-airflow-2.6.3 \\\n",
        "    --service-account $SERVICE_ACCOUNT\n",
        "```"
      ],
      "metadata": {
        "id": "uenbpRVCmyeE"
      }
    },
    {
      "cell_type": "markdown",
      "source": [
        "**Got Error**\n",
        "\n",
        "![image](https://github.com/easycloudapi/learn_gcp/assets/108976294/74a163e9-54b0-46bd-9b09-507922f621ce)"
      ],
      "metadata": {
        "id": "Q54QWf-Uu_iR"
      }
    },
    {
      "cell_type": "markdown",
      "source": [
        "**You add Cloud Composer Service Agent account as a new principal on your environment's service account and grant the Cloud Composer v2 API Service Agent Extension role to it.**"
      ],
      "metadata": {
        "id": "x-bNA3hLncWa"
      }
    },
    {
      "cell_type": "markdown",
      "source": [
        "```shell\n",
        "gcloud iam service-accounts add-iam-policy-binding \\\n",
        "    $SERVICE_ACCOUNT \\\n",
        "    --member serviceAccount:service-$PROJECT_NUMBER@cloudcomposer-accounts.iam.gserviceaccount.com \\\n",
        "    --role roles/composer.ServiceAgentV2Ext\n",
        "```"
      ],
      "metadata": {
        "id": "3K5LKqsjnZmC"
      }
    },
    {
      "cell_type": "markdown",
      "source": [
        "**Upload the below dag file**\n",
        "\n",
        "[Click here for the code](https://github.com/easycloudapi/learn_gcp/blob/main/python_helpers/sample_tutorial_airflow_dag.py)"
      ],
      "metadata": {
        "id": "jJ5siYouygMu"
      }
    }
  ]
}