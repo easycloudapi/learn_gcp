{
  "nbformat": 4,
  "nbformat_minor": 0,
  "metadata": {
    "colab": {
      "provenance": [],
      "authorship_tag": "ABX9TyOBPMp4NyPVICi5UTpbj+4j",
      "include_colab_link": true
    },
    "kernelspec": {
      "name": "python3",
      "display_name": "Python 3"
    },
    "language_info": {
      "name": "python"
    }
  },
  "cells": [
    {
      "cell_type": "markdown",
      "metadata": {
        "id": "view-in-github",
        "colab_type": "text"
      },
      "source": [
        "<a href=\"https://colab.research.google.com/github/easycloudapi/learn_gcp/blob/main/learning_resources/06_GCP_AutoML_Service.ipynb\" target=\"_parent\"><img src=\"https://colab.research.google.com/assets/colab-badge.svg\" alt=\"Open In Colab\"/></a>"
      ]
    },
    {
      "cell_type": "markdown",
      "source": [
        "# ML\n",
        "\n"
      ],
      "metadata": {
        "id": "QZAADR5A6IoY"
      }
    },
    {
      "cell_type": "markdown",
      "source": [
        "## Understand ML\n",
        "\n",
        "Ref: https://developers.google.com/machine-learning/foundational-courses"
      ],
      "metadata": {
        "id": "TfqytucB6K53"
      }
    },
    {
      "cell_type": "markdown",
      "source": [
        "# AutoML\n"
      ],
      "metadata": {
        "id": "OIlERlkq5-HM"
      }
    },
    {
      "cell_type": "markdown",
      "source": [
        "## Understand AutoML with Basics of ML\n",
        "\n",
        "Ref: https://cloud.google.com/vertex-ai/docs/beginner/beginners-guide#tabular_2\n",
        "\n"
      ],
      "metadata": {
        "id": "32Lp0rP26BTG"
      }
    },
    {
      "cell_type": "markdown",
      "source": [
        "## Automl Cloud SkillBoost:\n",
        "\n",
        "1. https://www.cloudskillsboost.google/focuses/8406?catalog_rank=%7B%22rank%22%3A1%2C%22num_filters%22%3A0%2C%22has_search%22%3Atrue%7D&parent=catalog&search_id=29754504\n",
        "\n",
        "2. https://www.cloudskillsboost.google/focuses/22020?catalog_rank=%7B%22rank%22%3A3%2C%22num_filters%22%3A0%2C%22has_search%22%3Atrue%7D&parent=catalog&search_id=29754504"
      ],
      "metadata": {
        "id": "TdDJ_OGAb7Jg"
      }
    },
    {
      "cell_type": "markdown",
      "source": [
        "# Vertex AI\n",
        "\n",
        "https://cloud.google.com/vertex-ai/docs/beginner/beginners-guide"
      ],
      "metadata": {
        "id": "kt3VRb-efjZK"
      }
    },
    {
      "cell_type": "markdown",
      "source": [
        "![image](https://github.com/easycloudapi/learn_gcp/assets/108976294/21caaeb8-f31f-4171-bd7b-2eb87aa4bd23)"
      ],
      "metadata": {
        "id": "TOcFgHxufgBR"
      }
    },
    {
      "cell_type": "markdown",
      "source": [
        "# Sample Pipeline 1:\n",
        "\n",
        "Ref: https://www.cloudskillsboost.google/focuses/43565?catalog_rank=%7B%22rank%22%3A1%2C%22num_filters%22%3A0%2C%22has_search%22%3Atrue%7D&parent=catalog&search_id=29754405\n",
        "\n",
        "\n",
        "**Binary classification model from tabular data Using Vertex AI.**\n",
        "\n",
        "\n",
        "**The goal** of the trained model is to predict whether a bank client will buy a term deposit (a type of investment) using features like age, income, and profession. This type of model can help banks determine who to focus its marketing resources on"
      ],
      "metadata": {
        "id": "7awfcKl1aaX0"
      }
    },
    {
      "cell_type": "markdown",
      "source": [
        "## Pre-Requisite"
      ],
      "metadata": {
        "id": "ns9xSmPRhHjy"
      }
    },
    {
      "cell_type": "markdown",
      "source": [
        "```shell\n",
        "gcloud auth list\n",
        "gcloud config set account `ACCOUNT`\n",
        "\n",
        "# gcloud config list project\n",
        "```"
      ],
      "metadata": {
        "id": "JmFDMV3ghKkP"
      }
    },
    {
      "cell_type": "markdown",
      "source": [
        "## Step 1: create a tabular dataset in Vertex AI"
      ],
      "metadata": {
        "id": "f3ZIcykDa6yq"
      }
    },
    {
      "cell_type": "markdown",
      "source": [
        "1. Open Google Cloud Console\n",
        "2. Goto **Vertex AI** Service\n",
        "3. Enable all Recommended API ()\n",
        "4. Goto  **Datasets**\n",
        "    1. Click \"Create\"\n",
        "    2. Provide Dataset Name\n",
        "    3. Select Datatype and Objectibe - Tabular/Regression/Classification\n",
        "    4. Select Region - us-central1 (lowa)\n",
        "    5. we will use a **publicly available bank dataset hosted on Cloud Storage**\n",
        "        1. Select a data sourc - Select CSV files from Cloud Storage\n",
        "        2. Import file path - cloud-ml-tables-data/bank-marketing.csv\n",
        "        3. Continue\n"
      ],
      "metadata": {
        "id": "YUVrbp0ZOTv7"
      }
    },
    {
      "cell_type": "markdown",
      "source": [
        "**Vertex AI examines** the source data type and feature values and infers how it will use that feature in model training. It's recommended that you review each column's data type to verify that it's been interpreted correctly. If needed, you can specify a different supported transformation for any feature.\n",
        "\n",
        "\n",
        "References:\n",
        "1. transformations: https://cloud.google.com/vertex-ai/docs/datasets/data-types-tabular\n",
        "2. preparing data: https://cloud.google.com/vertex-ai/docs/tabular-data/classification-regression/prepare-data"
      ],
      "metadata": {
        "id": "Tiv0Z7OiPpbS"
      }
    },
    {
      "cell_type": "markdown",
      "source": [
        "## Step 2: Analyze the dataset\n",
        "\n",
        "1. **Click Generate Statistics** to view the number of missing or NULL values in the dataset. This can take roughly 10 minutes or longer.\n",
        "\n",
        "2. Click on one of the feature columns to learn more about the data values."
      ],
      "metadata": {
        "id": "63FOV3gXnQSY"
      }
    },
    {
      "cell_type": "markdown",
      "source": [
        "## Step 2: Train an AutoML classification model"
      ],
      "metadata": {
        "id": "toK94hqQa-0Q"
      }
    },
    {
      "cell_type": "markdown",
      "source": [
        "1. Click **Train new model > Other**.\n",
        "2. In the **Training method pane**, confirm that the dataset you created previously is selected for the **Dataset** field.\n",
        "3. For the **Objective** field, select **Classification**.\n",
        "4. Confirm that the **AutoML** training method is selected.\n",
        "5. Click **Continue**.\n",
        "6. In the **Model details** pane, select **Deposit** for the target column and click **Continue**. The target column is what you're training the model to predict. For the **bank-marketing.csv dataset**, the **Deposit** column indicates whether the client purchased a term deposit (2 = yes, 1 = no). The **Training options** pane gives you an opportunity to add features and transform column data. If no columns are selected, then by default all non-target columns will be used as features for training. This dataset is ready to use, so there's no need to apply any transformations.\n",
        "7. Click **Continue**.\n",
        "In the Compute and pricing pane, enter 1 for the training budget. The training budget determines actual training time, but the time to complete training includes other activities, so the entire process can take longer than one hour. When the model finishes training, it is displayed in the model tab as a live link, with a green checkmark status icon.\n",
        "Click Start training."
      ],
      "metadata": {
        "id": "JRSGejixOv8e"
      }
    },
    {
      "cell_type": "markdown",
      "source": [
        "## Step 3: Request Prediction From The AutoML Classification Model (**hosted model)"
      ],
      "metadata": {
        "id": "D_sqAfTyglmL"
      }
    },
    {
      "cell_type": "markdown",
      "source": [
        "**Since the time it takes to train a tabular model is above the time limit of the lab, you will interact and request predictions from a hosted model in a different project trained on the same dataset.**\n",
        "\n",
        "`You will then tweak the values of the data for the prediction request and examine how it changes the resulting prediction from the model.`"
      ],
      "metadata": {
        "id": "_bmPE5t3f3IW"
      }
    },
    {
      "cell_type": "markdown",
      "source": [
        "```shell\n",
        "# payload.json\n",
        "{\n",
        "  \"instances\": [\n",
        "    { \"Age\": \"39.0\", \"Job\": \"blue-collar\", \"MaritalStatus\": \"married\", \"Education\": \"secondary\", \"Default\": \"no\", \"Balance\": \"455\", \"Housing\": \"yes\", \"Loan\": \"no\", \"Contact\": \"cellular\", \"Day\": \"16.0\", \"Month\": \"May\", \"Duration\": \"180.0\", \"Campaign\": \"2.0\", \"PDays\": \"-1.0\", \"Previous\": \"0.0\", \"POutcome\": \"unknown\"}\n",
        "    ]\n",
        "}\n",
        "```"
      ],
      "metadata": {
        "id": "CH0icAtLYgpj"
      }
    },
    {
      "cell_type": "markdown",
      "source": [
        "```shell\n",
        "AUTOML_PROXY=https://automl-proxy-xfpm6c62ta-uc.a.run.app/v1\n",
        "INPUT_DATA_FILE=payload.json\n",
        "\n",
        "curl -X POST -H \"Content-Type: application/json\" $AUTOML_PROXY -d \"@${INPUT_DATA_FILE}\"\n",
        "```"
      ],
      "metadata": {
        "id": "8IKbfLRIYoaE"
      }
    }
  ]
}