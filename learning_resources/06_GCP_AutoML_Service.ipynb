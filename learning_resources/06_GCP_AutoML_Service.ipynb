{
  "nbformat": 4,
  "nbformat_minor": 0,
  "metadata": {
    "colab": {
      "provenance": [],
      "authorship_tag": "ABX9TyNVZSXJ91MsCE+zg4m3nJHP",
      "include_colab_link": true
    },
    "kernelspec": {
      "name": "python3",
      "display_name": "Python 3"
    },
    "language_info": {
      "name": "python"
    }
  },
  "cells": [
    {
      "cell_type": "markdown",
      "metadata": {
        "id": "view-in-github",
        "colab_type": "text"
      },
      "source": [
        "<a href=\"https://colab.research.google.com/github/easycloudapi/learn_gcp/blob/main/learning_resources/06_GCP_AutoML_Service.ipynb\" target=\"_parent\"><img src=\"https://colab.research.google.com/assets/colab-badge.svg\" alt=\"Open In Colab\"/></a>"
      ]
    },
    {
      "cell_type": "markdown",
      "source": [
        "# ML\n",
        "\n"
      ],
      "metadata": {
        "id": "QZAADR5A6IoY"
      }
    },
    {
      "cell_type": "markdown",
      "source": [
        "## Understand ML\n",
        "\n",
        "Ref: https://developers.google.com/machine-learning/foundational-courses"
      ],
      "metadata": {
        "id": "TfqytucB6K53"
      }
    },
    {
      "cell_type": "markdown",
      "source": [
        "# AutoML\n"
      ],
      "metadata": {
        "id": "OIlERlkq5-HM"
      }
    },
    {
      "cell_type": "markdown",
      "source": [
        "## Understand AutoML with Basics of ML\n",
        "\n",
        "Ref: https://cloud.google.com/vertex-ai/docs/beginner/beginners-guide#tabular_2\n",
        "\n"
      ],
      "metadata": {
        "id": "32Lp0rP26BTG"
      }
    },
    {
      "cell_type": "code",
      "execution_count": null,
      "metadata": {
        "id": "xURCQY6V51Qm"
      },
      "outputs": [],
      "source": []
    }
  ]
}