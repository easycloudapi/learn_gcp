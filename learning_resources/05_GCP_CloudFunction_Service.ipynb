{
  "nbformat": 4,
  "nbformat_minor": 0,
  "metadata": {
    "colab": {
      "provenance": [],
      "toc_visible": true,
      "authorship_tag": "ABX9TyMMTWNEmnFUtMV+82a14n3I",
      "include_colab_link": true
    },
    "kernelspec": {
      "name": "python3",
      "display_name": "Python 3"
    },
    "language_info": {
      "name": "python"
    }
  },
  "cells": [
    {
      "cell_type": "markdown",
      "metadata": {
        "id": "view-in-github",
        "colab_type": "text"
      },
      "source": [
        "<a href=\"https://colab.research.google.com/github/easycloudapi/learn_gcp/blob/main/learning_resources/05_GCP_CloudFunction_Service.ipynb\" target=\"_parent\"><img src=\"https://colab.research.google.com/assets/colab-badge.svg\" alt=\"Open In Colab\"/></a>"
      ]
    },
    {
      "cell_type": "markdown",
      "source": [
        "# Overview Of Cloud Function\n",
        "\n",
        "Ref: https://cloud.google.com/functions/docs/concepts/overview"
      ],
      "metadata": {
        "id": "mBczuoS6qbrz"
      }
    },
    {
      "cell_type": "markdown",
      "source": [
        "# Cloud Function (1st Gen)"
      ],
      "metadata": {
        "id": "y_HR0nvtoOF8"
      }
    },
    {
      "cell_type": "markdown",
      "source": [
        "# Cloud Function (2nd Gen)"
      ],
      "metadata": {
        "id": "ADTzylEgoJiC"
      }
    },
    {
      "cell_type": "markdown",
      "source": [
        "**Cloud Functions (2nd gen)** is the next version of Google Cloud Functions, Google Cloud's Functions-as-a-Service offering.\n",
        "\n",
        "This new version comes with an advanced feature set and is now powered by **Cloud Run** and **Eventarc** and **Cloud Build**, **Artifact Registry**"
      ],
      "metadata": {
        "id": "6sKeH68EnbH4"
      }
    },
    {
      "cell_type": "markdown",
      "source": [
        "## Enhanced Infrastructure:\n",
        "\n",
        "1. **Longer request processing:** Run your Cloud Functions longer than the 5 minute default, making it easier to run longer request workloads such as processing large streams of data from Cloud Storage or BigQuery. For HTTP functions, this is up to 60 minutes. For event-driven functions, this is currently up to 10 minutes.\n",
        "2. **Larger instances:** Take advantage of up to 16GB of RAM and 4 vCPUs on Cloud Functions allowing larger in-memory, compute-intensive and more parallel workloads.\n",
        "3. **Concurrency:** Process up to 1000 concurrent requests with a single function instance, minimizing cold starts and improving latency when scaling.\n",
        "4. **Minimum instances:** Provide for pre-warmed instances to cut your cold starts and make sure the bootstrap time of your application does not impact the application performance.\n",
        "5. **Traffic splitting:** Support multiple versions of your functions, split traffic between different versions and roll your function back to a prior version."
      ],
      "metadata": {
        "id": "CR3yJEGdoD91"
      }
    },
    {
      "cell_type": "markdown",
      "source": [
        "## Concurrency\n",
        "\n",
        "Ref: https://codelabs.developers.google.com/codelabs/cloud-starting-cloudfunctions-v2?hl=en#8"
      ],
      "metadata": {
        "id": "kdJocZPy1LJx"
      }
    },
    {
      "cell_type": "markdown",
      "source": [
        "**In Cloud Functions (2nd gen)**, a function instance handles 1 concurrent request by default but you can specify the number of concurrent requests that can be processed simultaneously by an instance. This can also be useful in preventing cold starts as a new function instance does not need to be created for every parallel request.\n",
        "\n",
        "To fix the cold-start problem, you will deploy another function with a concurrency value of 100."
      ],
      "metadata": {
        "id": "9E3CLIMc1pvf"
      }
    },
    {
      "cell_type": "markdown",
      "source": [
        "# Cloud FUnction 1st Gen Vs 2nd Gen\n",
        "\n",
        "![image](https://github.com/easycloudapi/learn_gcp/assets/108976294/a1381b09-edcc-40ce-b58e-b21e70471d2e)"
      ],
      "metadata": {
        "id": "XJi_q90no63J"
      }
    },
    {
      "cell_type": "markdown",
      "source": [
        "# Sample Pipeline 1: Pubsub to Bigquery Using Cloud Function\n",
        "\n",
        "Ref: https://codelabs.developers.google.com/codelabs/cloud-starting-cloudfunctions-v2?hl=en#3"
      ],
      "metadata": {
        "id": "qnfMyX0CmPfO"
      }
    },
    {
      "cell_type": "markdown",
      "source": [
        "## Step 1: Setup and Requirements"
      ],
      "metadata": {
        "id": "1Red4aPEnEAB"
      }
    },
    {
      "cell_type": "markdown",
      "source": [
        "```shell\n",
        "gcloud config set project test-flask-api-372913\n",
        "\n",
        "PROJECT_ID=$(gcloud config get-value project) \\\n",
        "REGION=us-west1\n",
        "```"
      ],
      "metadata": {
        "id": "NCX9w2gIqyVb"
      }
    },
    {
      "cell_type": "markdown",
      "source": [
        "```shell\n",
        "# enable the google services\n",
        "\n",
        "gcloud services enable \\\n",
        "  artifactregistry.googleapis.com \\\n",
        "  cloudfunctions.googleapis.com \\\n",
        "  cloudbuild.googleapis.com \\\n",
        "  eventarc.googleapis.com \\\n",
        "  run.googleapis.com \\\n",
        "  logging.googleapis.com \\\n",
        "  pubsub.googleapis.com\n",
        "```"
      ],
      "metadata": {
        "id": "RYrZ3UiHrW3q"
      }
    },
    {
      "cell_type": "markdown",
      "source": [
        "```shell\n",
        "# create pubsub topic\n",
        "TOPIC=cloud-functions-gen2-topic\n",
        "\n",
        "gcloud pubsub topics create $TOPIC\n",
        "```"
      ],
      "metadata": {
        "id": "yFiwP9MYttDU"
      }
    },
    {
      "cell_type": "markdown",
      "source": [
        "## Step 2: Create Cloud Function\n",
        "\n",
        "1. Open Google Cloud Function UI\n",
        "2. Create New 2nd Gen Function\n",
        "```shell\n",
        "gcloud functions deploy python-pubsub-function \\\n",
        "  --gen2 \\\n",
        "  --runtime python39 \\\n",
        "  --entry-point hello_pubsub \\\n",
        "  --source . \\\n",
        "  --region $REGION \\\n",
        "  --trigger-topic $TOPIC\n",
        "```"
      ],
      "metadata": {
        "id": "_dP8XNKTv26-"
      }
    },
    {
      "cell_type": "markdown",
      "source": [
        "### main.py"
      ],
      "metadata": {
        "id": "r0rGaxYvw4XV"
      }
    },
    {
      "cell_type": "markdown",
      "source": [
        "```python\n",
        "import functions_framework\n",
        "\n",
        "@functions_framework.cloud_event\n",
        "def hello_pubsub(cloud_event):\n",
        "   print('Pub/Sub with Python in GCF 2nd gen! Id: ' + cloud_event['id'])\n",
        "```"
      ],
      "metadata": {
        "id": "AE7o15UVweiO"
      }
    },
    {
      "cell_type": "markdown",
      "source": [
        "### requirements.txt"
      ],
      "metadata": {
        "id": "kQo5XnL0w7b7"
      }
    },
    {
      "cell_type": "markdown",
      "source": [
        "```shell\n",
        "functions-framework==3.*\n",
        "```"
      ],
      "metadata": {
        "id": "FVOpPMqywed7"
      }
    },
    {
      "cell_type": "markdown",
      "source": [
        "## Step 3: Test the Cloud Function"
      ],
      "metadata": {
        "id": "MVO2meFMwecS"
      }
    },
    {
      "cell_type": "markdown",
      "source": [
        "```shell\n",
        "# send msg to Pubsub Topic\n",
        "gcloud pubsub topics publish $TOPIC --message=\"Hello World\"\n",
        "\n",
        "# check cloud logging, check same message id\n",
        "gcloud functions logs read python-pubsub-function \\\n",
        "  --region $REGION --gen2 --format \"value(log)\"\n",
        "```"
      ],
      "metadata": {
        "id": "iLVIzo1ZzMOI"
      }
    }
  ]
}