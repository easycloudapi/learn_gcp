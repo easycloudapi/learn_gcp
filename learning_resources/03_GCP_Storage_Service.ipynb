{
  "nbformat": 4,
  "nbformat_minor": 0,
  "metadata": {
    "colab": {
      "provenance": [],
      "authorship_tag": "ABX9TyP9pNzJSQa4HRZI7gNJhH8i",
      "include_colab_link": true
    },
    "kernelspec": {
      "name": "python3",
      "display_name": "Python 3"
    },
    "language_info": {
      "name": "python"
    }
  },
  "cells": [
    {
      "cell_type": "markdown",
      "metadata": {
        "id": "view-in-github",
        "colab_type": "text"
      },
      "source": [
        "<a href=\"https://colab.research.google.com/github/easycloudapi/learn_gcp/blob/main/learning_resources/03_GCP_Storage_Service.ipynb\" target=\"_parent\"><img src=\"https://colab.research.google.com/assets/colab-badge.svg\" alt=\"Open In Colab\"/></a>"
      ]
    },
    {
      "cell_type": "markdown",
      "source": [
        "# Create GCS Bucket"
      ],
      "metadata": {
        "id": "HUGcADf0Pv1S"
      }
    },
    {
      "cell_type": "markdown",
      "source": [
        "1. Name your bucket:\n",
        "    > Bucket Name will be **globally unique**"
      ],
      "metadata": {
        "id": "hVBZyRjePG2f"
      }
    },
    {
      "cell_type": "markdown",
      "source": [
        "2. Choose where to store your data: (Location type)\n",
        "    > This choice defines the geographic placement of your data and affects cost, performance, and availability. **Cannot be changed later**\n",
        "    >\n",
        "    1. **Multi-region:** Highest availability across largest area\n",
        "    2. **Dual-region:** High availability and low latency across 2 regions\n",
        "    3. **Region:** Lowest latency within a single region"
      ],
      "metadata": {
        "id": "5g99uvhHiCp0"
      }
    },
    {
      "cell_type": "markdown",
      "source": [
        "3. Choose a storage class for your data:\n",
        "    1. **Autoclass:**\n",
        "    > Automatically transitions each object to Standard or Nearline class based on object-level activity, to optimize for cost and latency. **Recommended if usage frequency may be unpredictable**. Can be changed to a default class at any time.\n",
        "    2. **Set a default class:**\n",
        "        1. **Standard: (Default)** Best for short-term storage and frequently accessed data\n",
        "        2. **Nearline:** Best for backups and data accessed less than once a month\n",
        "        3. **Coldline:** Best for disaster recovery and data accessed less than once a quarter\n",
        "        4. **Archive:** Best for long-term digital preservation of data accessed less than once a year"
      ],
      "metadata": {
        "id": "Q6rcw6N3iG6K"
      }
    },
    {
      "cell_type": "markdown",
      "source": [
        "4. Choose how to control access to objects:\n",
        "    1. **Prevent public access:**\n",
        "    2. Access control:\n",
        "        1. **Uniform**\n",
        "        > Ensure uniform access to all objects in the bucket by using only bucket-level permissions (IAM). This option becomes permanent after 90 days.\n",
        "        2. **Fine-grained**\n",
        "        > Specify access to individual objects by using object-level permissions (ACLs) in addition to your bucket-level permissions (IAM)."
      ],
      "metadata": {
        "id": "UuIjYjOjiK5X"
      }
    },
    {
      "cell_type": "markdown",
      "source": [
        "5. Choose how to protect object data:\n",
        "    1. Data protection:\n",
        "        1. **Object versioning (For version control)**\n",
        "        > For restoring deleted or overwritten objects. To minimize the cost of storing versions, we recommend limiting the number of noncurrent versions per object and scheduling them to expire after a number of days\n",
        "        2.**Retention (For compliance)**\n",
        "        > For preventing the deletion or modification of the bucket's objects for a specified period of time."
      ],
      "metadata": {
        "id": "n-KgmbVhiPjA"
      }
    }
  ]
}