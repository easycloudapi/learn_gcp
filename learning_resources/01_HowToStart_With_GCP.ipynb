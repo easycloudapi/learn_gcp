{
  "nbformat": 4,
  "nbformat_minor": 0,
  "metadata": {
    "colab": {
      "provenance": [],
      "toc_visible": true,
      "authorship_tag": "ABX9TyMx+SbldftnfVQl174lG8is",
      "include_colab_link": true
    },
    "kernelspec": {
      "name": "python3",
      "display_name": "Python 3"
    },
    "language_info": {
      "name": "python"
    }
  },
  "cells": [
    {
      "cell_type": "markdown",
      "metadata": {
        "id": "view-in-github",
        "colab_type": "text"
      },
      "source": [
        "<a href=\"https://colab.research.google.com/github/easycloudapi/learn_gcp/blob/main/learning_resources/01_HowToStart_With_GCP.ipynb\" target=\"_parent\"><img src=\"https://colab.research.google.com/assets/colab-badge.svg\" alt=\"Open In Colab\"/></a>"
      ]
    },
    {
      "cell_type": "markdown",
      "source": [
        "# Open The Google Cloud Console\n",
        "\n",
        "https://console.cloud.google.com/"
      ],
      "metadata": {
        "id": "HDUaN9Pbk7IJ"
      }
    },
    {
      "cell_type": "markdown",
      "source": [
        "# How To Access GCP Apis/Resources:\n",
        "\n",
        "1. Console (https://console.cloud.google.com/apis/library)\n",
        "2. Cloud SDK (https://cloud.google.com/sdk/docs/components)\n",
        "    1. gcloud\n",
        "    2. bq\n",
        "    3. gsutil\n",
        "    4. kubectl\n",
        "3. REST Api\n",
        "    1. Bigquery - (https://cloud.google.com/bigquery/docs/reference/rest)\n",
        "4. Python SDK (https://cloud.google.com/python/docs/reference)\n",
        "5. SDK for other language like Go, Java (https://cloud.google.com/sdk#all-features)"
      ],
      "metadata": {
        "id": "P9wsI2ZDpSon"
      }
    },
    {
      "cell_type": "markdown",
      "source": [
        "## Using Google Cloud SDK\n",
        "\n",
        "1. Install Google Cloud SDK in local machine (https://cloud.google.com/sdk/docs/install-sdk)\n",
        "2. Open the `Google Cloud SDK Shell` from local machine\n",
        "3. Execute below commands:\n",
        "    ```shell    \n",
        "    # Get Auth Details -\n",
        "    gcloud auth list\n",
        "    # Set Auth Account -\n",
        "    gcloud config set account `ACCOUNT`\n",
        "    # to obtain new credentials for mentioned user account\n",
        "    gcloud auth login\n",
        "\n",
        "    # Set authorization for Service Account\n",
        "    <!-- gcloud auth activate-service-account ACCOUNT -->\n",
        "\n",
        "    # Set Region or Zone\n",
        "    gcloud config set compute/region REGION\n",
        "    gcloud config set compute/zone ZONE\n",
        "\n",
        "    # set gcp project\n",
        "    gcloud config set project [PROJECT_ID]\n",
        "\n",
        "    # Get Config Details -\n",
        "    gcloud config list\n",
        "    # Set New Config -\n",
        "    gcloud init\n",
        "    ```\n"
      ],
      "metadata": {
        "id": "ghRlQSCb5_zo"
      }
    },
    {
      "cell_type": "markdown",
      "source": [
        "## Using Cloudshell"
      ],
      "metadata": {
        "id": "jQo8ks1g4jsp"
      }
    },
    {
      "cell_type": "markdown",
      "source": [
        "Steps to follow:\n",
        "\n",
        "1. Open https://cloud.google.com/shell\n",
        "2. click on \"Activate Cloud Shell\"\n",
        "3. Execute below setup commands:\n",
        "    ```shell\n",
        "    gcloud config list\n",
        "    gcloud projects describe [PROJECT_ID]\n",
        "    ```"
      ],
      "metadata": {
        "id": "3y1Qlw5D5At0"
      }
    },
    {
      "cell_type": "markdown",
      "source": [
        "### Choose **Cloud SDK** Over **Cloud Shell**\n",
        "\n",
        "ID | Cloud SDK | Cloud Shell\n",
        ":--| :-------- | :----------\n",
        "1  | Its available for windows, mac, unix | Cloud Shell is based on Debian OS\n",
        "2  | For Windows, `cls` is used instead of `clear` | For Cloud Shell, `clear` is used\n",
        "3  | Cloud SDk has no barrier of 5GB persistent disk storage  | In Cloud Shell, we have only 5GB persistent disk storage\n",
        "4  | Cloud SDK has no time/usage limit | Cloud Shell has weekly usage limits (50 hours/week)"
      ],
      "metadata": {
        "id": "2l5uHxdKJOcJ"
      }
    },
    {
      "cell_type": "markdown",
      "source": [
        "## Using Python Library"
      ],
      "metadata": {
        "id": "Z4Gs9VkzFyMA"
      }
    },
    {
      "cell_type": "code",
      "source": [],
      "metadata": {
        "id": "k8KaOs-7WxOd"
      },
      "execution_count": null,
      "outputs": []
    },
    {
      "cell_type": "markdown",
      "source": [
        "# Create New Project"
      ],
      "metadata": {
        "id": "sCmLlcFTo8Lw"
      }
    },
    {
      "cell_type": "markdown",
      "source": [],
      "metadata": {
        "id": "g2bQy5BFcymd"
      }
    },
    {
      "cell_type": "markdown",
      "source": [],
      "metadata": {
        "id": "UOHZjun-kEsF"
      }
    },
    {
      "cell_type": "code",
      "source": [],
      "metadata": {
        "id": "dCs_3uKlpJcn"
      },
      "execution_count": null,
      "outputs": []
    },
    {
      "cell_type": "code",
      "source": [
        "# discovery based python api: https://github.com/googleapis/google-api-python-client\n",
        "# googleapiclient.discovery.build"
      ],
      "metadata": {
        "id": "4-qy3aZXv5by"
      },
      "execution_count": null,
      "outputs": []
    }
  ]
}