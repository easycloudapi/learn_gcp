{
  "nbformat": 4,
  "nbformat_minor": 0,
  "metadata": {
    "colab": {
      "provenance": [],
      "toc_visible": true,
      "authorship_tag": "ABX9TyMcj+WFlA2bsAyhL2Yg8eU5",
      "include_colab_link": true
    },
    "kernelspec": {
      "name": "python3",
      "display_name": "Python 3"
    },
    "language_info": {
      "name": "python"
    }
  },
  "cells": [
    {
      "cell_type": "markdown",
      "metadata": {
        "id": "view-in-github",
        "colab_type": "text"
      },
      "source": [
        "<a href=\"https://colab.research.google.com/github/easycloudapi/learn_gcp/blob/main/learning_resources/02_GCP_Compute_Service.ipynb\" target=\"_parent\"><img src=\"https://colab.research.google.com/assets/colab-badge.svg\" alt=\"Open In Colab\"/></a>"
      ]
    },
    {
      "cell_type": "markdown",
      "source": [
        "# GCP Compute Instance Reference\n",
        "\n",
        "1. Compute Engine API: https://cloud.google.com/compute/docs/reference/rest/v1?apix=true"
      ],
      "metadata": {
        "id": "ieE9jjqKlD1f"
      }
    },
    {
      "cell_type": "markdown",
      "source": [
        "# Spot VMs Vs Preemptible VMs Vs Standard VMs\n",
        "\n",
        "ID  | Spot VMs     | Preemptible VMs | Standard VMs\n",
        ":-- | :----------- | :-------        | :----------\n",
        "1   | Spot VMs cost 60-91% less than standard VMs | Preemptible VMs similar like Spot VMs | standard VMs are costlier than Spot VMs\n",
        "2   | Google can reclaim the resources by preempting Spot VMs at any time | Preemptible VMs have a maximum duration of 24 hours and do not offer availability guarantees. | Standrad VMs can't be preempted by Google Compute Engine\n",
        "3   | Spot VMs are recommended only for fault-tolerant applications | Standard VMs have no such problems\n",
        "4   | Spot VMs will replace Preemptible VMs | Preemptible VMs have been deprecated | Standard VMs functionality will remain same."
      ],
      "metadata": {
        "id": "bojhD3hpzntt"
      }
    },
    {
      "cell_type": "markdown",
      "source": [
        "# SSDs & Balanced Disks (Local Vs Persistent Disks)"
      ],
      "metadata": {
        "id": "Ia8EuJjnkV_9"
      }
    },
    {
      "cell_type": "markdown",
      "source": [
        "![image](https://github.com/easycloudapi/learn_gcp/assets/108976294/85f0912f-65a3-4bfb-a790-a6751a57e9d2)"
      ],
      "metadata": {
        "id": "MPPbsRYdpofe"
      }
    },
    {
      "cell_type": "markdown",
      "source": [
        "instance-templates, Images"
      ],
      "metadata": {
        "id": "NloDWJXcPSXW"
      }
    },
    {
      "cell_type": "markdown",
      "source": [
        "# Create New Compute Instance"
      ],
      "metadata": {
        "id": "1Kue0B_gkq4L"
      }
    },
    {
      "cell_type": "markdown",
      "source": [
        "1. How to **create Google VM Instance**: https://cloud.google.com/compute/docs/instances/create-start-instance\n",
        "2. **Disk Info:** https://cloud.google.com/compute/docs/disks#pdspecs\n"
      ],
      "metadata": {
        "id": "CZjD8G6Xireu"
      }
    },
    {
      "cell_type": "markdown",
      "source": [
        "## Using Python -"
      ],
      "metadata": {
        "id": "Ml5FZRoXu3BS"
      }
    },
    {
      "cell_type": "markdown",
      "source": [
        "Pre-Requisite for Python:\n",
        "\n",
        "1. Setup Working Folder\n",
        "2. Setup Python Virtual ENV and Install Required Packages\n",
        "2. Enable the GCP Compute API for the selected GCP Project\n",
        "\n",
        "```shell\n",
        "# cd $HOME\n",
        "cd ~\n",
        "mkdir demo && cd demo\n",
        "\n",
        "python -m venv .venv\n",
        "source .venv/bin/activate\n",
        "\n",
        "# pip install --upgrade google-cloud-compute\n",
        "```"
      ],
      "metadata": {
        "id": "XxqyYII7q5es"
      }
    },
    {
      "cell_type": "markdown",
      "source": [
        "### Client Libraries"
      ],
      "metadata": {
        "id": "ZW3RUJzUkwyU"
      }
    },
    {
      "cell_type": "markdown",
      "source": [
        "1. The **Cloud Client Libraries** are the recommended way to access Google Cloud APIs programmatically.\n",
        "2. The Cloud Client Libraries support accessing Google Cloud services in a way that significantly reduces the boilerplate code you have to write.\n",
        "3. **The libraries provide high-level API abstractions so they're easier to understand**.\n",
        "\n",
        "\n",
        "Python Client Library: https://cloud.google.com/python/docs/reference/"
      ],
      "metadata": {
        "id": "_oaUJu3I372P"
      }
    },
    {
      "cell_type": "markdown",
      "source": [
        "**Use python client library:**  `from google.cloud import compute_v1`\n",
        "\n",
        "[Click here for the link](https://github.com/easycloudapi/learn_gcp/blob/main/python_helpers/create_gcp_vm.py)"
      ],
      "metadata": {
        "id": "gDFwFsuT0w01"
      }
    },
    {
      "cell_type": "markdown",
      "source": [
        "### Discovery API"
      ],
      "metadata": {
        "id": "1DJlS4Xkk0nF"
      }
    },
    {
      "cell_type": "markdown",
      "source": [
        "machine-readable specification for describing and consuming REST APIs\n",
        "\n",
        "https://www.googleapis.com/discovery/v1/apis/compute/v1/rest"
      ],
      "metadata": {
        "id": "Ajmj0WiVvtby"
      }
    },
    {
      "cell_type": "code",
      "source": [
        "# discovery based python api: https://github.com/googleapis/google-api-python-client\n",
        "# googleapiclient.discovery.build"
      ],
      "metadata": {
        "id": "VjCquIvUFJx2"
      },
      "execution_count": null,
      "outputs": []
    },
    {
      "cell_type": "code",
      "source": [
        "from googleapiclient import discovery\n",
        "\n",
        "# Create a service object\n",
        "service = discovery.build('secretmanager', 'v1')\n",
        "\n",
        "# Build request\n",
        "secret_key = 'credential_123'\n",
        "project_id = 'project_id_123'\n",
        "request = service.projects().secrets().versions().access(\n",
        "            name=f'projects/{project_id}/secrets/{secret_key}/versions/latest')\n",
        "\n",
        "# Execute request\n",
        "secret_value = request.execute()"
      ],
      "metadata": {
        "id": "nRS9bj_2XN4N"
      },
      "execution_count": null,
      "outputs": []
    },
    {
      "cell_type": "markdown",
      "source": [
        "### Rest API\n"
      ],
      "metadata": {
        "id": "6EaktAwqk6PZ"
      }
    },
    {
      "cell_type": "markdown",
      "source": [
        "1. Core GCP Compute Rest API Documentation: https://cloud.google.com/compute/docs/reference/rest/v1/instances/insert\n",
        "2. https://cloud.google.com/compute/docs/instances/create-start-instance"
      ],
      "metadata": {
        "id": "wNaKuBHB_dpr"
      }
    },
    {
      "cell_type": "markdown",
      "source": [
        "**Use base Url:**  `f'https://compute.googleapis.com/compute/v1/projects/{project}/zones/{zone}/instances'`\n",
        "\n",
        "[Click here for the link](https://github.com/easycloudapi/learn_gcp/blob/main/python_helpers/python_rest_create_gcp_vm.py)"
      ],
      "metadata": {
        "id": "b4hwEySahdo_"
      }
    },
    {
      "cell_type": "markdown",
      "source": [
        "## Using Cloud Shell"
      ],
      "metadata": {
        "id": "SKC1rhGevGOT"
      }
    },
    {
      "cell_type": "markdown",
      "source": [
        "```shell\n",
        "# # Create Cloud VM\n",
        "\n",
        "# # Open the SSH of Cloud VM (Copy Below Code from GCP VM UI)\n",
        "gcloud compute ssh --zone \"us-west3-b\" \"<VM Name>\" --tunnel-through-iap --project \"<Project ID>\"\n",
        "# exit\n",
        "```"
      ],
      "metadata": {
        "id": "SPMIv-bj6w30"
      }
    },
    {
      "cell_type": "markdown",
      "source": [
        "## Using Google Cloud UI"
      ],
      "metadata": {
        "id": "EgjURSc-6qxZ"
      }
    },
    {
      "cell_type": "markdown",
      "source": [
        "https://console.cloud.google.com/welcome?tutorial=compute_short_quickstart&_ga=2.249196100.-238573144.1707224980&_gac=1.121609338.1707225667.Cj0KCQiAzoeuBhDqARIsAMdH14GEM52x7poPip0EUmN49Ivf7ZheWM-AXDeHi3wXYQqX9lx6AxQpUHgaAiEeEALw_wcB&project=test-flask-api-372913"
      ],
      "metadata": {
        "id": "KlEcKkvhvNib"
      }
    }
  ]
}