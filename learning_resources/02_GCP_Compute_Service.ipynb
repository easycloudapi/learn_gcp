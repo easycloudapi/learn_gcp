{
  "nbformat": 4,
  "nbformat_minor": 0,
  "metadata": {
    "colab": {
      "provenance": [],
      "toc_visible": true,
      "authorship_tag": "ABX9TyP/lKl5WPadMBfJs+Z2rg29",
      "include_colab_link": true
    },
    "kernelspec": {
      "name": "python3",
      "display_name": "Python 3"
    },
    "language_info": {
      "name": "python"
    }
  },
  "cells": [
    {
      "cell_type": "markdown",
      "metadata": {
        "id": "view-in-github",
        "colab_type": "text"
      },
      "source": [
        "<a href=\"https://colab.research.google.com/github/easycloudapi/learn_gcp/blob/main/learning_resources/02_GCP_Compute_Service.ipynb\" target=\"_parent\"><img src=\"https://colab.research.google.com/assets/colab-badge.svg\" alt=\"Open In Colab\"/></a>"
      ]
    },
    {
      "cell_type": "markdown",
      "source": [
        "# GCP Compute Instance Reference\n",
        "\n",
        "1. Compute Engine API: https://cloud.google.com/compute/docs/reference/rest/v1?apix=true"
      ],
      "metadata": {
        "id": "ieE9jjqKlD1f"
      }
    },
    {
      "cell_type": "markdown",
      "source": [
        "# Spot/Preemptible VMs Vs Standard VMs\n",
        "\n",
        "ID  | Spot VMs     | Preemptible VMs | Standard VMs\n",
        ":-- | :----------- | :-------        | :----------\n",
        "1   | Spot VMs cost 60-91% less than standard VMs | Preemptible VMs similar like Spot VMs | standard VMs are costlier than Spot VMs\n",
        "2   | Google can reclaim the resources by preempting Spot VMs at any time | Preemptible VMs have a maximum duration of 24 hours and do not offer availability guarantees. | Standrad VMs can't be preempted by Google Compute Engine\n",
        "3   | Spot VMs are recommended only for fault-tolerant applications | Standard VMs have no such problems\n",
        "4   | Spot VMs will replace Preemptible VMs | Preemptible VMs have been deprecated | Standard VMs functionality will remain same."
      ],
      "metadata": {
        "id": "bojhD3hpzntt"
      }
    },
    {
      "cell_type": "markdown",
      "source": [
        "# Create New Compute Instance"
      ],
      "metadata": {
        "id": "1Kue0B_gkq4L"
      }
    },
    {
      "cell_type": "markdown",
      "source": [
        "## Using Python -"
      ],
      "metadata": {
        "id": "Ml5FZRoXu3BS"
      }
    },
    {
      "cell_type": "markdown",
      "source": [
        "Pre-Requisite for Python: Set Env in Cloud Shell\n",
        "```shell\n",
        "# cd $HOME\n",
        "cd ~\n",
        "mkdir demo && cd demo\n",
        "\n",
        "python -m venv .venv\n",
        "source .venv/bin/activate\n",
        "\n",
        "pip install --upgrade google-cloud-compute\n",
        "```"
      ],
      "metadata": {
        "id": "XxqyYII7q5es"
      }
    },
    {
      "cell_type": "markdown",
      "source": [
        "### Client Libraries"
      ],
      "metadata": {
        "id": "ZW3RUJzUkwyU"
      }
    },
    {
      "cell_type": "code",
      "source": [
        "\"\"\"\n",
        "Ref: https://cloud.google.com/python/docs/reference/compute/latest\n",
        "Code Ref: https://cloud.google.com/compute/docs/api/using-libraries\n",
        "\n",
        "preemptible: boolean value indicating if the new instance should be preemptible or not.\n",
        "Preemptible VMs have been deprecated and you should now use Spot VMs.\n",
        "\n",
        "spot: boolean value indicating if the new instance should be a Spot VM or not.\n",
        "\n",
        "instance_termination_action: What action should be taken once a Spot VM is terminated.\n",
        "Possible values: \"STOP\", \"DELETE\"\n",
        "\"\"\"\n",
        "# [START compute_instances_create]\n",
        "from __future__ import annotations\n",
        "\n",
        "import re\n",
        "import sys\n",
        "from typing import Any\n",
        "import warnings\n",
        "\n",
        "from google.api_core.extended_operation import ExtendedOperation\n",
        "from google.cloud import compute_v1\n",
        "\n",
        "\n",
        "def get_image_from_family(project: str, family: str) -> compute_v1.Image:\n",
        "    \"\"\"\n",
        "    Retrieve the newest image that is part of a given family in a project.\n",
        "\n",
        "    Args:\n",
        "        project: project ID or project number of the Cloud project you want to get image from.\n",
        "        family: name of the image family you want to get image from.\n",
        "\n",
        "    Returns:\n",
        "        An Image object.\n",
        "    \"\"\"\n",
        "    image_client = compute_v1.ImagesClient()\n",
        "    # List of public operating system (OS) images: https://cloud.google.com/compute/docs/images/os-details\n",
        "    newest_image = image_client.get_from_family(project=project, family=family)\n",
        "    return newest_image\n",
        "\n",
        "\n",
        "def disk_from_image(\n",
        "    disk_type: str,\n",
        "    disk_size_gb: int,\n",
        "    boot: bool,\n",
        "    source_image: str,\n",
        "    auto_delete: bool = True,\n",
        ") -> compute_v1.AttachedDisk:\n",
        "    \"\"\"\n",
        "    Create an AttachedDisk object to be used in VM instance creation. Uses an image as the\n",
        "    source for the new disk.\n",
        "\n",
        "    Args:\n",
        "         disk_type: the type of disk you want to create. This value uses the following format:\n",
        "            \"zones/{zone}/diskTypes/(pd-standard|pd-ssd|pd-balanced|pd-extreme)\".\n",
        "            For example: \"zones/us-west3-b/diskTypes/pd-ssd\"\n",
        "        disk_size_gb: size of the new disk in gigabytes\n",
        "        boot: boolean flag indicating whether this disk should be used as a boot disk of an instance\n",
        "        source_image: source image to use when creating this disk. You must have read access to this disk. This can be one\n",
        "            of the publicly available images or an image from one of your projects.\n",
        "            This value uses the following format: \"projects/{project_name}/global/images/{image_name}\"\n",
        "        auto_delete: boolean flag indicating whether this disk should be deleted with the VM that uses it\n",
        "\n",
        "    Returns:\n",
        "        AttachedDisk object configured to be created using the specified image.\n",
        "    \"\"\"\n",
        "    boot_disk = compute_v1.AttachedDisk()\n",
        "    initialize_params = compute_v1.AttachedDiskInitializeParams()\n",
        "    initialize_params.source_image = source_image\n",
        "    initialize_params.disk_size_gb = disk_size_gb\n",
        "    initialize_params.disk_type = disk_type\n",
        "    boot_disk.initialize_params = initialize_params\n",
        "    # Remember to set auto_delete to True if you want the disk to be deleted when you delete\n",
        "    # your VM instance.\n",
        "    boot_disk.auto_delete = auto_delete\n",
        "    boot_disk.boot = boot\n",
        "    return boot_disk\n",
        "\n",
        "\n",
        "def wait_for_extended_operation(\n",
        "    operation: ExtendedOperation, verbose_name: str = \"operation\", timeout: int = 300\n",
        ") -> Any:\n",
        "    \"\"\"\n",
        "    Waits for the extended (long-running) operation to complete.\n",
        "\n",
        "    If the operation is successful, it will return its result.\n",
        "    If the operation ends with an error, an exception will be raised.\n",
        "    If there were any warnings during the execution of the operation\n",
        "    they will be printed to sys.stderr.\n",
        "\n",
        "    Args:\n",
        "        operation: a long-running operation you want to wait on.\n",
        "        verbose_name: (optional) a more verbose name of the operation,\n",
        "            used only during error and warning reporting.\n",
        "        timeout: how long (in seconds) to wait for operation to finish.\n",
        "            If None, wait indefinitely.\n",
        "\n",
        "    Returns:\n",
        "        Whatever the operation.result() returns.\n",
        "\n",
        "    Raises:\n",
        "        This method will raise the exception received from `operation.exception()`\n",
        "        or RuntimeError if there is no exception set, but there is an `error_code`\n",
        "        set for the `operation`.\n",
        "\n",
        "        In case of an operation taking longer than `timeout` seconds to complete,\n",
        "        a `concurrent.futures.TimeoutError` will be raised.\n",
        "    \"\"\"\n",
        "    result = operation.result(timeout=timeout)\n",
        "\n",
        "    if operation.error_code:\n",
        "        print(\n",
        "            f\"Error during {verbose_name}: [Code: {operation.error_code}]: {operation.error_message}\",\n",
        "            file=sys.stderr,\n",
        "            flush=True,\n",
        "        )\n",
        "        print(f\"Operation ID: {operation.name}\", file=sys.stderr, flush=True)\n",
        "        raise operation.exception() or RuntimeError(operation.error_message)\n",
        "\n",
        "    if operation.warnings:\n",
        "        print(f\"Warnings during {verbose_name}:\\n\", file=sys.stderr, flush=True)\n",
        "        for warning in operation.warnings:\n",
        "            print(f\" - {warning.code}: {warning.message}\", file=sys.stderr, flush=True)\n",
        "\n",
        "    return result\n",
        "\n",
        "\n",
        "def create_instance(\n",
        "    project_id: str,\n",
        "    zone: str,\n",
        "    instance_name: str,\n",
        "    disks: list[compute_v1.AttachedDisk],\n",
        "    machine_type: str = \"n1-standard-1\",\n",
        "    network_link: str = \"global/networks/default\",\n",
        "    subnetwork_link: str = None,\n",
        "    internal_ip: str = None,\n",
        "    external_access: bool = False,\n",
        "    external_ipv4: str = None,\n",
        "    accelerators: list[compute_v1.AcceleratorConfig] = None,\n",
        "    preemptible: bool = False,\n",
        "    spot: bool = False,\n",
        "    instance_termination_action: str = \"STOP\",\n",
        "    custom_hostname: str = None,\n",
        "    delete_protection: bool = False,\n",
        ") -> compute_v1.Instance:\n",
        "    \"\"\"\n",
        "    Send an instance creation request to the Compute Engine API and wait for it to complete.\n",
        "\n",
        "    Args:\n",
        "        project_id: project ID or project number of the Cloud project you want to use.\n",
        "        zone: name of the zone to create the instance in. For example: \"us-west3-b\"\n",
        "        instance_name: name of the new virtual machine (VM) instance.\n",
        "        disks: a list of compute_v1.AttachedDisk objects describing the disks\n",
        "            you want to attach to your new instance.\n",
        "        machine_type: machine type of the VM being created. This value uses the\n",
        "            following format: \"zones/{zone}/machineTypes/{type_name}\".\n",
        "            For example: \"zones/europe-west3-c/machineTypes/f1-micro\"\n",
        "        network_link: name of the network you want the new instance to use.\n",
        "            For example: \"global/networks/default\" represents the network\n",
        "            named \"default\", which is created automatically for each project.\n",
        "        subnetwork_link: name of the subnetwork you want the new instance to use.\n",
        "            This value uses the following format:\n",
        "            \"regions/{region}/subnetworks/{subnetwork_name}\"\n",
        "        internal_ip: internal IP address you want to assign to the new instance.\n",
        "            By default, a free address from the pool of available internal IP addresses of\n",
        "            used subnet will be used.\n",
        "        external_access: boolean flag indicating if the instance should have an external IPv4\n",
        "            address assigned.\n",
        "        external_ipv4: external IPv4 address to be assigned to this instance. If you specify\n",
        "            an external IP address, it must live in the same region as the zone of the instance.\n",
        "            This setting requires `external_access` to be set to True to work.\n",
        "        accelerators: a list of AcceleratorConfig objects describing the accelerators that will\n",
        "            be attached to the new instance.\n",
        "        preemptible: boolean value indicating if the new instance should be preemptible\n",
        "            or not. Preemptible VMs have been deprecated and you should now use Spot VMs.\n",
        "        spot: boolean value indicating if the new instance should be a Spot VM or not.\n",
        "        instance_termination_action: What action should be taken once a Spot VM is terminated.\n",
        "            Possible values: \"STOP\", \"DELETE\"\n",
        "        custom_hostname: Custom hostname of the new VM instance.\n",
        "            Custom hostnames must conform to RFC 1035 requirements for valid hostnames.\n",
        "        delete_protection: boolean value indicating if the new virtual machine should be\n",
        "            protected against deletion or not.\n",
        "    Returns:\n",
        "        Instance object.\n",
        "    \"\"\"\n",
        "    instance_client = compute_v1.InstancesClient()\n",
        "\n",
        "    # Use the network interface provided in the network_link argument.\n",
        "    network_interface = compute_v1.NetworkInterface()\n",
        "    network_interface.network = network_link\n",
        "    if subnetwork_link:\n",
        "        network_interface.subnetwork = subnetwork_link\n",
        "\n",
        "    if internal_ip:\n",
        "        network_interface.network_i_p = internal_ip\n",
        "\n",
        "    if external_access:\n",
        "        access = compute_v1.AccessConfig()\n",
        "        access.type_ = compute_v1.AccessConfig.Type.ONE_TO_ONE_NAT.name\n",
        "        access.name = \"External NAT\"\n",
        "        access.network_tier = access.NetworkTier.PREMIUM.name\n",
        "        if external_ipv4:\n",
        "            access.nat_i_p = external_ipv4\n",
        "        network_interface.access_configs = [access]\n",
        "\n",
        "    # Collect information into the Instance object.\n",
        "    instance = compute_v1.Instance()\n",
        "    instance.network_interfaces = [network_interface]\n",
        "    instance.name = instance_name\n",
        "    instance.disks = disks\n",
        "    if re.match(r\"^zones/[a-z\\d\\-]+/machineTypes/[a-z\\d\\-]+$\", machine_type):\n",
        "        instance.machine_type = machine_type\n",
        "    else:\n",
        "        instance.machine_type = f\"zones/{zone}/machineTypes/{machine_type}\"\n",
        "\n",
        "    instance.scheduling = compute_v1.Scheduling()\n",
        "    if accelerators:\n",
        "        instance.guest_accelerators = accelerators\n",
        "        instance.scheduling.on_host_maintenance = (\n",
        "            compute_v1.Scheduling.OnHostMaintenance.TERMINATE.name\n",
        "        )\n",
        "\n",
        "    if preemptible:\n",
        "        # Set the preemptible setting\n",
        "        warnings.warn(\n",
        "            \"Preemptible VMs are being replaced by Spot VMs.\", DeprecationWarning\n",
        "        )\n",
        "        instance.scheduling = compute_v1.Scheduling()\n",
        "        instance.scheduling.preemptible = True\n",
        "\n",
        "    if spot:\n",
        "        # Set the Spot VM setting\n",
        "        instance.scheduling.provisioning_model = (\n",
        "            compute_v1.Scheduling.ProvisioningModel.SPOT.name\n",
        "        )\n",
        "        instance.scheduling.instance_termination_action = instance_termination_action\n",
        "\n",
        "    if custom_hostname is not None:\n",
        "        # Set the custom hostname for the instance\n",
        "        instance.hostname = custom_hostname\n",
        "\n",
        "    if delete_protection:\n",
        "        # Set the delete protection bit\n",
        "        instance.deletion_protection = True\n",
        "\n",
        "    # Prepare the request to insert an instance.\n",
        "    request = compute_v1.InsertInstanceRequest()\n",
        "    request.zone = zone\n",
        "    request.project = project_id\n",
        "    request.instance_resource = instance\n",
        "\n",
        "    # Wait for the create operation to complete.\n",
        "    print(f\"Creating the {instance_name} instance in {zone}...\")\n",
        "\n",
        "    operation = instance_client.insert(request=request)\n",
        "\n",
        "    wait_for_extended_operation(operation, \"instance creation\")\n",
        "\n",
        "    print(f\"Instance {instance_name} created.\")\n",
        "    return instance_client.get(project=project_id, zone=zone, instance=instance_name)\n",
        "\n",
        "\n",
        "# [END compute_instances_create]\n",
        "\n",
        "if __name__ == \"__main__\":\n",
        "    import uuid\n",
        "    import google.auth\n",
        "    import google.auth.exceptions\n",
        "\n",
        "    try:\n",
        "        default_project_id = google.auth.default()[1]\n",
        "    except google.auth.exceptions.DefaultCredentialsError:\n",
        "        print(\n",
        "            \"Please use `gcloud auth application-default login` \"\n",
        "            \"or set GOOGLE_APPLICATION_CREDENTIALS to use this script.\"\n",
        "        )\n",
        "    else:\n",
        "        instance_name = \"quickstart-\" + uuid.uuid4().hex[:10]\n",
        "        instance_zone = \"europe-central2-b\"\n",
        "\n",
        "        newest_debian = get_image_from_family(\n",
        "            project=\"debian-cloud\", family=\"debian-10\"\n",
        "        )\n",
        "        disk_type = f\"zones/{instance_zone}/diskTypes/pd-standard\"\n",
        "        disks = [disk_from_image(disk_type, 10, True, newest_debian.self_link)]\n",
        "\n",
        "        create_instance(default_project_id, instance_zone, instance_name, disks)"
      ],
      "metadata": {
        "id": "bjmLOlNAlAl7"
      },
      "execution_count": null,
      "outputs": []
    },
    {
      "cell_type": "code",
      "source": [
        "create_instance(project_id=\"\", zone=\"us-west3-b\", instance_name=\"demo-py-cl-compute-01\"\n",
        "create_instance(project_id=\"\", zone=\"us-central1-a\", instance_name=\"demo-py-cl-compute-02\""
      ],
      "metadata": {
        "id": "oe32CSJzycI9"
      },
      "execution_count": null,
      "outputs": []
    },
    {
      "cell_type": "markdown",
      "source": [
        "### Discovery API"
      ],
      "metadata": {
        "id": "1DJlS4Xkk0nF"
      }
    },
    {
      "cell_type": "markdown",
      "source": [
        "machine-readable specification for describing and consuming REST APIs\n",
        "\n",
        "https://www.googleapis.com/discovery/v1/apis/compute/v1/rest"
      ],
      "metadata": {
        "id": "Ajmj0WiVvtby"
      }
    },
    {
      "cell_type": "markdown",
      "source": [
        "### Rest API\n"
      ],
      "metadata": {
        "id": "6EaktAwqk6PZ"
      }
    },
    {
      "cell_type": "code",
      "execution_count": null,
      "metadata": {
        "id": "Z5_98s05kgyR"
      },
      "outputs": [],
      "source": []
    },
    {
      "cell_type": "markdown",
      "source": [
        "## Using Cloud Shell"
      ],
      "metadata": {
        "id": "SKC1rhGevGOT"
      }
    },
    {
      "cell_type": "markdown",
      "source": [
        "https://console.cloud.google.com/welcome?tutorial=compute_short_quickstart&_ga=2.249196100.-238573144.1707224980&_gac=1.121609338.1707225667.Cj0KCQiAzoeuBhDqARIsAMdH14GEM52x7poPip0EUmN49Ivf7ZheWM-AXDeHi3wXYQqX9lx6AxQpUHgaAiEeEALw_wcB&project=test-flask-api-372913"
      ],
      "metadata": {
        "id": "KlEcKkvhvNib"
      }
    }
  ]
}