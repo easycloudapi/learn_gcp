{
  "nbformat": 4,
  "nbformat_minor": 0,
  "metadata": {
    "colab": {
      "provenance": [],
      "toc_visible": true,
      "authorship_tag": "ABX9TyMB78dVl51gdXf/Mnhsk1lM",
      "include_colab_link": true
    },
    "kernelspec": {
      "name": "python3",
      "display_name": "Python 3"
    },
    "language_info": {
      "name": "python"
    }
  },
  "cells": [
    {
      "cell_type": "markdown",
      "metadata": {
        "id": "view-in-github",
        "colab_type": "text"
      },
      "source": [
        "<a href=\"https://colab.research.google.com/github/easycloudapi/learn_gcp/blob/main/learning_resources/02_GCP_Compute_Service.ipynb\" target=\"_parent\"><img src=\"https://colab.research.google.com/assets/colab-badge.svg\" alt=\"Open In Colab\"/></a>"
      ]
    },
    {
      "cell_type": "markdown",
      "source": [
        "# GCP Compute Instance Reference\n",
        "\n",
        "1. Compute Engine API: https://cloud.google.com/compute/docs/reference/rest/v1?apix=true"
      ],
      "metadata": {
        "id": "ieE9jjqKlD1f"
      }
    },
    {
      "cell_type": "markdown",
      "source": [
        "# Spot VMs Vs Preemptible VMs Vs Standard VMs"
      ],
      "metadata": {
        "id": "hwqwpeH_ilpv"
      }
    },
    {
      "cell_type": "markdown",
      "source": [
        "ID   | Spot VMs | Preemptible VMs | Standard VMs\n",
        ":--- | :--- | :--- | :---\n",
        "1   | Spot VMs cost 60-91% less than standard VMs | Preemptible VMs similar like Spot VMs | standard VMs are costlier than Spot VMs\n",
        "2   | Google can reclaim the resources by preempting Spot VMs at any time | Preemptible VMs have a maximum duration of 24 hours and do not offer availability guarantees. | Standrad VMs can't be preempted by Google Compute Engine\n",
        "3   | Spot VMs are recommended only for fault-tolerant applications | Standard VMs have no such problems |\n",
        "4   | Spot VMs will replace Preemptible VMs | Preemptible VMs have been deprecated | Standard VMs functionality will remain same."
      ],
      "metadata": {
        "id": "bojhD3hpzntt"
      }
    },
    {
      "cell_type": "markdown",
      "source": [
        "# SSDs & Balanced Disks (Local Vs Persistent Disks)"
      ],
      "metadata": {
        "id": "Ia8EuJjnkV_9"
      }
    },
    {
      "cell_type": "markdown",
      "source": [
        "![image](https://github.com/easycloudapi/learn_gcp/assets/108976294/85f0912f-65a3-4bfb-a790-a6751a57e9d2)"
      ],
      "metadata": {
        "id": "MPPbsRYdpofe"
      }
    },
    {
      "cell_type": "markdown",
      "source": [
        "# Public Images\n",
        "\n",
        "**Google provides public images that are maintained by open source communities and third-party vendors.** All Google Cloud projects have access to these images by default and can use them to create instances.\n",
        "\n",
        "**Some OS images** are customized specifically to run on Compute Engine\n",
        "\n",
        "```shell\n",
        "gcloud compute images list\n",
        "```"
      ],
      "metadata": {
        "id": "UWDN0kIOPc3u"
      }
    },
    {
      "cell_type": "markdown",
      "source": [
        "# Machine images\n",
        "\n",
        "A machine image is a Compute Engine resource that stores all the configuration, metadata, permissions, and data from one or more disks required to create a virtual machine (VM) instance.\n",
        "\n",
        "You can use a machine image in many system maintenance scenarios, such as instance creation, backup and recovery, and instance cloning."
      ],
      "metadata": {
        "id": "uR1GaLG0BnuD"
      }
    },
    {
      "cell_type": "markdown",
      "source": [
        "**Custom images** capture the contents of a single disk, for example, a boot disk, which can be used to create new instances that are preconfigured with the apps that you need, so that you don’t have to configure public images from scratch.\n",
        "\n",
        "\n",
        "**Machine images** are a more comprehensive resource that can contain multiple disks, as well as all of the information required to capture and create a new instance, including:\n",
        "\n",
        "1. Instance properties (machine type, labels, volume mapping, network tags)\n",
        "2. Data of all attached disks (one or multiple)\n",
        "3. Instance metadata\n",
        "4. Permissions, including the service account used to create the instance"
      ],
      "metadata": {
        "id": "AsTBb8FdE9u_"
      }
    },
    {
      "cell_type": "markdown",
      "source": [
        "# Instance templates\n",
        "\n",
        "**An instance template lets you describe a VM instance.** You can then create groups of identical instances based on the template.\n",
        "\n",
        "```shell\n",
        "gcloud compute instance-templates list\n",
        "```"
      ],
      "metadata": {
        "id": "NloDWJXcPSXW"
      }
    },
    {
      "cell_type": "markdown",
      "source": [
        "![image](https://github.com/easycloudapi/learn_gcp/assets/108976294/f1d4bbf8-cd44-4d57-a38f-dc25864fc5ec)"
      ],
      "metadata": {
        "id": "0btfiekXEIEw"
      }
    },
    {
      "cell_type": "markdown",
      "source": [
        "# Multi-tenant Vs Sole-tenant\n",
        "\n",
        "**Sole-tenancy** lets you have exclusive access to a sole-tenant node, which is a physical Compute Engine server that is dedicated to hosting only your project's VMs.\n",
        "\n",
        "Use **sole-tenant nodes** to keep your VMs physically separated from VMs in other projects, or to group your VMs together on the same host hardware\n",
        "\n"
      ],
      "metadata": {
        "id": "53TLbthCS1qU"
      }
    },
    {
      "cell_type": "markdown",
      "source": [
        "![image](https://github.com/easycloudapi/learn_gcp/assets/108976294/71454c96-d4a3-4e5b-bd44-b710f4626432)"
      ],
      "metadata": {
        "id": "sOcJfoOMbTnp"
      }
    },
    {
      "cell_type": "markdown",
      "source": [
        "# (Managed) Instance Groups - MIGs\n",
        "\n",
        "Instance groups let you organize VM instances or use them in a load-balancing backend service.\n",
        "\n",
        "You can group existing instances or create a group based on an **instance template.**"
      ],
      "metadata": {
        "id": "OCOpklK6IDKL"
      }
    },
    {
      "cell_type": "markdown",
      "source": [
        "# Snapshots\n",
        "\n",
        "1. Snapshots are backups of persistent disks.\n",
        "    1. **Snapshots:** Standard backup and disaster recovery; stored in a separate location from your disk\n",
        "    2. **Instant snapshot:** Rapid restoration; stored in the same location as your disk\n",
        "    3. **Archive snapshot:** Long-term storage for infrequently-accessed data; stored in a separate location from your disk\n",
        "2. They’re commonly used to recover, transfer, or make data accessible to other resources in your project\n",
        "3. We can schedule the snapshot"
      ],
      "metadata": {
        "id": "y7AgHb4sKTzA"
      }
    },
    {
      "cell_type": "markdown",
      "source": [
        "# Create New Compute Instance"
      ],
      "metadata": {
        "id": "1Kue0B_gkq4L"
      }
    },
    {
      "cell_type": "markdown",
      "source": [
        "1. How to **create Google VM Instance**: https://cloud.google.com/compute/docs/instances/create-start-instance\n",
        "2. **Disk Info:** https://cloud.google.com/compute/docs/disks#pdspecs\n"
      ],
      "metadata": {
        "id": "CZjD8G6Xireu"
      }
    },
    {
      "cell_type": "markdown",
      "source": [
        "## Using Python -"
      ],
      "metadata": {
        "id": "Ml5FZRoXu3BS"
      }
    },
    {
      "cell_type": "markdown",
      "source": [
        "Pre-Requisite for Python:\n",
        "\n",
        "1. Setup Working Folder\n",
        "2. Setup Python Virtual ENV and Install Required Packages\n",
        "2. Enable the GCP Compute API for the selected GCP Project\n",
        "\n",
        "```shell\n",
        "# cd $HOME\n",
        "cd ~\n",
        "mkdir demo && cd demo\n",
        "\n",
        "python -m venv .venv\n",
        "source .venv/bin/activate\n",
        "\n",
        "# pip install --upgrade google-cloud-compute\n",
        "```"
      ],
      "metadata": {
        "id": "XxqyYII7q5es"
      }
    },
    {
      "cell_type": "markdown",
      "source": [
        "### Client Libraries"
      ],
      "metadata": {
        "id": "ZW3RUJzUkwyU"
      }
    },
    {
      "cell_type": "markdown",
      "source": [
        "1. The **Cloud Client Libraries** are the recommended way to access Google Cloud APIs programmatically.\n",
        "2. The Cloud Client Libraries support accessing Google Cloud services in a way that significantly reduces the boilerplate code you have to write.\n",
        "3. **The libraries provide high-level API abstractions so they're easier to understand**.\n",
        "\n",
        "\n",
        "Python Client Library: https://cloud.google.com/python/docs/reference/"
      ],
      "metadata": {
        "id": "_oaUJu3I372P"
      }
    },
    {
      "cell_type": "markdown",
      "source": [
        "**Install Package for Client Libraries:** `pip install --upgrade google-cloud-compute`\n",
        "\n",
        "**Use python client library:**  `from google.cloud import compute_v1`\n",
        "\n",
        "[Click here for the link](https://github.com/easycloudapi/learn_gcp/blob/main/python_helpers/python_client_create_gcp_vm.py)"
      ],
      "metadata": {
        "id": "gDFwFsuT0w01"
      }
    },
    {
      "cell_type": "markdown",
      "source": [
        "### Discovery API"
      ],
      "metadata": {
        "id": "1DJlS4Xkk0nF"
      }
    },
    {
      "cell_type": "markdown",
      "source": [
        "machine-readable specification for describing and consuming REST APIs\n",
        "\n",
        "1. https://www.googleapis.com/discovery/v1/apis/compute/v1/rest\n",
        "2. https://github.com/googleapis/google-api-python-client"
      ],
      "metadata": {
        "id": "Ajmj0WiVvtby"
      }
    },
    {
      "cell_type": "markdown",
      "source": [
        "**Install Package for Discovery Api:** `pip install --upgrade google-api-python-client`\n",
        "\n",
        "**Use this discovery build code:** `compute = googleapiclient.discovery.build(\"compute\", \"v1\")`\n",
        "\n",
        "[Click here for the link](https://github.com/easycloudapi/learn_gcp/blob/main/python_helpers/python_discovery_create_gcp_vm.py)"
      ],
      "metadata": {
        "id": "782Nqr48_s1k"
      }
    },
    {
      "cell_type": "markdown",
      "source": [
        "### Rest API\n"
      ],
      "metadata": {
        "id": "6EaktAwqk6PZ"
      }
    },
    {
      "cell_type": "markdown",
      "source": [
        "1. Core GCP Compute Rest API Documentation: https://cloud.google.com/compute/docs/reference/rest/v1/instances/insert\n",
        "2. https://cloud.google.com/compute/docs/instances/create-start-instance"
      ],
      "metadata": {
        "id": "wNaKuBHB_dpr"
      }
    },
    {
      "cell_type": "markdown",
      "source": [
        "**Use base Url:**  `f'https://compute.googleapis.com/compute/v1/projects/{project}/zones/{zone}/instances'`\n",
        "\n",
        "[Click here for the link](https://github.com/easycloudapi/learn_gcp/blob/main/python_helpers/python_rest_create_gcp_vm.py)"
      ],
      "metadata": {
        "id": "b4hwEySahdo_"
      }
    },
    {
      "cell_type": "markdown",
      "source": [
        "## Using Cloud Shell"
      ],
      "metadata": {
        "id": "SKC1rhGevGOT"
      }
    },
    {
      "cell_type": "markdown",
      "source": [
        "```shell\n",
        "# # Specify the VM Configs\n",
        "VM_NAME1=demo-gcloud-vm-001  \\\n",
        "VM_NAME2=demo-gcloud-vm-002  \\\n",
        "ZONE1=us-central1-c  \\\n",
        "ZONE2=us-central1-f  \\\n",
        "IMAGE=debian-10-buster-v20200413  \\\n",
        "IMAGE_PROJECT=debian-cloud  \\\n",
        "MACHINE_TYPE=n2-standard-2  \\\n",
        "SIZE_GB=10  \\\n",
        "DISK_TYPE=pd-ssd  \\\n",
        "DISK_NAME=Demo-Disk\n",
        "```"
      ],
      "metadata": {
        "id": "IMW0jbUnWlL0"
      }
    },
    {
      "cell_type": "markdown",
      "source": [
        "```shell\n",
        "# # Create Cloud VM\n",
        "gcloud compute instances create $VM_NAME1 \\\n",
        "--zone=$ZONE1 \\\n",
        "--image=$IMAGE  \\\n",
        "--image-project=$IMAGE_PROJECT \\\n",
        "--machine-type=$MACHINE_TYPE\n",
        "\n",
        "# # Create Cloud VM with Additional Non-Boot Disk\n",
        "gcloud compute instances create $VM_NAME2 \\\n",
        "--zone=$ZONE2 \\\n",
        "--image=$IMAGE  \\\n",
        "--image-project=$IMAGE_PROJECT \\\n",
        "--create-disk image=$IMAGE,image-project=$IMAGE_PROJECT,size=$SIZE_GB,type=$DISK_TYPE \\\n",
        "--create-disk=device-name=$DISK_NAME,size=$SIZE_GB,boot=false\n",
        "\n",
        "\n",
        "# # Open the SSH of Cloud VM (Copy Below Code from GCP VM UI)\n",
        "gcloud compute ssh --zone \"us-west3-b\" \"<VM Name>\" --tunnel-through-iap --project \"<Project ID>\"\n",
        "# exit\n",
        "\n",
        "# # Remove VM Machines\n",
        "gcloud compute instances delete $VM_NAME1 --zone=$ZONE1\n",
        "gcloud compute instances delete $VM_NAME2 --zone=$ZONE2\n",
        "```"
      ],
      "metadata": {
        "id": "SPMIv-bj6w30"
      }
    },
    {
      "cell_type": "markdown",
      "source": [
        "## Using Google Cloud UI"
      ],
      "metadata": {
        "id": "EgjURSc-6qxZ"
      }
    },
    {
      "cell_type": "markdown",
      "source": [
        "https://console.cloud.google.com/welcome?tutorial=compute_short_quickstart&_ga=2.249196100.-238573144.1707224980&_gac=1.121609338.1707225667.Cj0KCQiAzoeuBhDqARIsAMdH14GEM52x7poPip0EUmN49Ivf7ZheWM-AXDeHi3wXYQqX9lx6AxQpUHgaAiEeEALw_wcB&project=test-flask-api-372913"
      ],
      "metadata": {
        "id": "KlEcKkvhvNib"
      }
    },
    {
      "cell_type": "markdown",
      "source": [
        "## Known Error"
      ],
      "metadata": {
        "id": "C6NSir-7k6nI"
      }
    },
    {
      "cell_type": "markdown",
      "source": [
        "### Unavailable of Resource\n",
        "\n",
        "![image](https://github.com/easycloudapi/learn_gcp/assets/108976294/372df431-1ba6-47b0-a4aa-e447cc6c478e)"
      ],
      "metadata": {
        "id": "rgUPJlLPk_P-"
      }
    },
    {
      "cell_type": "markdown",
      "source": [
        "# Other GCloud Useful Commands:\n",
        "\n",
        "```shell\n",
        "# gcloud compute zones list | grep us-central\n",
        "gcloud compute zones list | FINDSTR us-central\n",
        "gcloud compute images list | FINDSTR debian\n",
        "gcloud compute disks list\n",
        "gcloud compute disk-types list\n",
        "gcloud compute machine-types list | FINDSTR  debian-11\n",
        "\n",
        "gcloud compute instance-templates list\n",
        "```"
      ],
      "metadata": {
        "id": "b2eu_lRSHDeC"
      }
    }
  ]
}