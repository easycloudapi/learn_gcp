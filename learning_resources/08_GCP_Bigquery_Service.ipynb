{
  "nbformat": 4,
  "nbformat_minor": 0,
  "metadata": {
    "colab": {
      "provenance": [],
      "authorship_tag": "ABX9TyOVlSbsYwCMKMhJHUjTDrV5",
      "include_colab_link": true
    },
    "kernelspec": {
      "name": "python3",
      "display_name": "Python 3"
    },
    "language_info": {
      "name": "python"
    }
  },
  "cells": [
    {
      "cell_type": "markdown",
      "metadata": {
        "id": "view-in-github",
        "colab_type": "text"
      },
      "source": [
        "<a href=\"https://colab.research.google.com/github/easycloudapi/learn_gcp/blob/main/learning_resources/08_GCP_Bigquery_Service.ipynb\" target=\"_parent\"><img src=\"https://colab.research.google.com/assets/colab-badge.svg\" alt=\"Open In Colab\"/></a>"
      ]
    },
    {
      "cell_type": "markdown",
      "source": [
        "# Bigquery\n",
        "\n",
        "1. Introduction-Bigquery: https://cloud.google.com/bigquery/docs/introduction\n",
        "\n",
        "2. introduction-sql: https://cloud.google.com/bigquery/docs/introduction-sql"
      ],
      "metadata": {
        "id": "wN5vcvr-zwlG"
      }
    },
    {
      "cell_type": "markdown",
      "source": [
        "# Sample Queries on Public Dataset"
      ],
      "metadata": {
        "id": "KhnyKU0sz_1Q"
      }
    },
    {
      "cell_type": "markdown",
      "source": [
        "```sql\n",
        "--============================================================\n",
        "CREATE SCHEMA `test-flask-api-372913.SAMPLE_Dataset`\n",
        "  OPTIONS (\n",
        "    description = 'Sample DESCRIPTION',\n",
        "    labels = [('key','value'),('env','prod')],\n",
        "    location = 'US');\n",
        "--===========================================================\n",
        "\n",
        "create or replace table `test-flask-api-372913.SAMPLE_Dataset.sample_table`(id int64, name string);\n",
        "--===========================================================\n",
        "insert into `test-flask-api-372913.SAMPLE_Dataset.sample_table` values(1, 'indra');\n",
        "insert into `test-flask-api-372913.SAMPLE_Dataset.sample_table` values(1, 'pravin');\n",
        "--===========================================================\n",
        "```"
      ],
      "metadata": {
        "id": "vb0r704b0Dk4"
      }
    }
  ]
}